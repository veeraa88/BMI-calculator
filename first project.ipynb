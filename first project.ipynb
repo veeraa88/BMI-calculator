{
 "cells": [
  {
   "cell_type": "code",
   "execution_count": 7,
   "id": "a501bbe9-1a0f-4938-b3fe-0ebe8f0519c2",
   "metadata": {},
   "outputs": [
    {
     "name": "stdin",
     "output_type": "stream",
     "text": [
      "Enter your Weight in kg's: 80\n",
      "Enter your Height in cm's: 160\n"
     ]
    },
    {
     "name": "stdout",
     "output_type": "stream",
     "text": [
      "you are severely obese\n"
     ]
    }
   ],
   "source": [
    "weight=int(input(\"Enter your Weight in kg's:\"))\n",
    "height=int(input(\"Enter your Height in cm's:\"))\n",
    "BMI= weight/(height/100)**2\n",
    "if BMI<18.5:\n",
    " print(\"your are underweight\")\n",
    "elif BMI>=18.5 and BMI<24.9:\n",
    " print(\"you are health weight\")\n",
    "elif BMI>=25 and BMI<29.9:\n",
    " print(\"you are over weight\")\n",
    "elif BMI>=30 and BMI<34.9:\n",
    " print(\"you are severely obese\")\n",
    "else:\n",
    " print(\"you are morbidly obese\")"
   ]
  },
  {
   "cell_type": "code",
   "execution_count": null,
   "id": "7509e951-a6ff-4070-b512-e0abb0bc8acf",
   "metadata": {},
   "outputs": [],
   "source": []
  }
 ],
 "metadata": {
  "kernelspec": {
   "display_name": "Python [conda env:base] *",
   "language": "python",
   "name": "conda-base-py"
  },
  "language_info": {
   "codemirror_mode": {
    "name": "ipython",
    "version": 3
   },
   "file_extension": ".py",
   "mimetype": "text/x-python",
   "name": "python",
   "nbconvert_exporter": "python",
   "pygments_lexer": "ipython3",
   "version": "3.12.7"
  }
 },
 "nbformat": 4,
 "nbformat_minor": 5
}
